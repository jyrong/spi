{
 "cells": [
  {
   "cell_type": "code",
   "execution_count": null,
   "metadata": {},
   "outputs": [],
   "source": [
    "from sys import argv\n",
    "from os import path\n",
    "import csv"
   ]
  },
  {
   "cell_type": "code",
   "execution_count": null,
   "metadata": {},
   "outputs": [],
   "source": [
    "file_name = None\n",
    "\n",
    "for a in argv[1:]:\n",
    "    if path.isfile(a):\n",
    "        file_name = a\n",
    "        break\n",
    "\n",
    "if file_name is None:\n",
    "    print(\"Error: No valid file path given\")\n",
    "    quit(0)\n",
    "elif path.splitext(file_name)[1] != \".csv\":\n",
    "    print(\"Error: File given is not CSV\")\n",
    "    quit(0)"
   ]
  },
  {
   "cell_type": "code",
   "execution_count": null,
   "metadata": {},
   "outputs": [],
   "source": [
    "cols_to_report = []\n",
    "counts = {}\n",
    "\n",
    "with open(file_name) as csv_file:\n",
    "    reader = csv.DictReader(csv_file)\n",
    "    \n",
    "    cols_to_report = set(reader.fieldnames).intersection(map(str.capitalize, map(str.lower, argv)))\n",
    "\n",
    "    if len(cols_to_report) == 0:\n",
    "        # NOTE: Not sure what to do about columns with spaces in them, such as 'First Name'\n",
    "        cols_to_report = reader.fieldnames\n",
    "\n",
    "    for row in reader:\n",
    "        for col in cols_to_report:\n",
    "            if not col in counts:\n",
    "                counts[col] = {}\n",
    "\n",
    "            # Make sure the cell actually has a value\n",
    "            if not row[col]:\n",
    "                continue\n",
    "\n",
    "            if row[col] in counts[col]:\n",
    "                counts[col][row[col]] += 1\n",
    "            else:\n",
    "                counts[col][row[col]] = 1"
   ]
  },
  {
   "cell_type": "code",
   "execution_count": null,
   "metadata": {},
   "outputs": [],
   "source": [
    "for key in counts:\n",
    "    # Sorts the dictionary by value\n",
    "    # Results in a list of tuples\n",
    "    sorted_count = sorted(counts[key].items(), key=lambda kv: kv[1], reverse=True)\n",
    "    for tpl in sorted_count:\n",
    "        print(f\"{tpl[0]}: {tpl[1]}\")\n",
    "    print(\"-------------------------------\")"
   ]
  }
 ],
 "metadata": {
  "kernelspec": {
   "display_name": "Python 3",
   "language": "python",
   "name": "python3"
  },
  "language_info": {
   "codemirror_mode": {
    "name": "ipython",
    "version": 3
   },
   "file_extension": ".py",
   "mimetype": "text/x-python",
   "name": "python",
   "nbconvert_exporter": "python",
   "pygments_lexer": "ipython3",
   "version": "3.7.6"
  }
 },
 "nbformat": 4,
 "nbformat_minor": 4
}
