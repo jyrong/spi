{
 "cells": [
  {
   "cell_type": "code",
   "execution_count": null,
   "metadata": {},
   "outputs": [],
   "source": [
    "from selenium import webdriver\n",
    "import time\n",
    "from math import ceil\n",
    "import requests\n",
    "from bs4 import BeautifulSoup"
   ]
  },
  {
   "cell_type": "code",
   "execution_count": null,
   "metadata": {},
   "outputs": [],
   "source": [
    "# update url for each run - currently scraping by 'Census Metro Area'\n",
    "url = ''\n",
    "\n",
    "d = webdriver.Chrome(executable_path='/Users/jackrong/git/spi/ref-usa/chromedriver')\n",
    "d.get(url)"
   ]
  },
  {
   "cell_type": "code",
   "execution_count": null,
   "metadata": {},
   "outputs": [],
   "source": [
    "totalCount = d.find_elements_by_xpath('//*[@id=\"dbSelector\"]/div/div[2]/div[1]/ul[1]/li/span')[0].text\n",
    "maxPage = d.find_elements_by_xpath('//*[@id=\"searchResults\"]/div[1]/div/div[1]/div[1]/span[2]')[0].text\n",
    "\n",
    "# use the following codes to debug the above block\n",
    "#for elem in d.find_elements_by_xpath('.//span[@class = \"data-page-max\"]'):\n",
    "#    print(elem.text)\n",
    "\n",
    "totalCount_str = totalCount + \" records\"\n",
    "print(totalCount_str)\n",
    "print(maxPage + \" pages\".rjust(len(totalCount_str) - len(maxPage)))\n",
    "\n",
    "# let's do some math given the max # of pages\n",
    "loopCount = ceil(int(maxPage) / 20)\n",
    "lastLoopPages = int(maxPage) % 20\n",
    "#print(type(loopCount))\n",
    "print('downloading takes {} loops'.format(loopCount))\n",
    "print('the last loop has {} pages'.format(lastLoopPages))\n",
    "\n",
    "# keeps track of page number\n",
    "counterPage = 1\n",
    "\n",
    "# keeps track of loop number\n",
    "counterLoop = 0"
   ]
  },
  {
   "cell_type": "code",
   "execution_count": null,
   "metadata": {},
   "outputs": [],
   "source": [
    "## use below to overwrite page number manually\n",
    "counterLoop = 21\n",
    "counterPage = 421\n",
    "\n",
    "boolOne = d.find_elements_by_xpath('//*[@id=\"dbSelector\"]/div/div[2]/div[1]/ul[1]/li/span')[0].text != totalCount\n",
    "xpathCounterPage = '//*[@id=\"searchResults\"]/div[1]/div/div[1]/div[1]/span[1]'\n",
    "boolTwo = d.find_elements_by_xpath(xpathCounterPage)[0].text != f'{int(counterPage):,}'\n",
    "if boolOne or boolTwo:\n",
    "    print('uh oh...something is...wrong')\n",
    "    \n",
    "# update j manually for the last loop; otherwise, keep it at 20\n",
    "for j in range(1, 20):\n",
    "    d.find_element_by_xpath('//*[@id=\"checkboxCol\"]').click()\n",
    "    time.sleep(1)\n",
    "    counterPage += 1\n",
    "    d.find_element_by_css_selector('div.next.button.mousedown-enterkey').click()\n",
    "    time.sleep(3)\n",
    "\n",
    "d.find_element_by_xpath('//*[@id=\"checkboxCol\"]').click()\n",
    "time.sleep(1)\n",
    "\n",
    "# click the download button\n",
    "d.find_element_by_css_selector('a.action.download.action-download').click()\n",
    "time.sleep(3)\n",
    "\n",
    "# select the detail option \n",
    "d.find_element_by_css_selector(\"input[type='radio'][value='detail']\").click()\n",
    "#time.sleep(3)\n",
    "\n",
    "counterPage += 1\n",
    "counterLoop += 1\n",
    "print('this is loop # {}'.format(counterLoop))\n",
    "print('for the next loop, pls proceed to page # {}'.format(counterPage))"
   ]
  },
  {
   "cell_type": "code",
   "execution_count": null,
   "metadata": {},
   "outputs": [],
   "source": [
    "# download csv with all details included\n",
    "#d.find_element_by_xpath(\"//*[@id='downloadForm']/div[2]/a[1]/span/span\").click()\n",
    "#time.sleep(3)\n",
    "\n",
    "# click back to return to the search page\n",
    "#d.find_element_by_xpath(\"//*[@id='dbSelector']/div/div[2]/div[1]/ul/li[1]/a\").click()"
   ]
  },
  {
   "cell_type": "code",
   "execution_count": null,
   "metadata": {},
   "outputs": [],
   "source": [
    "d.close()"
   ]
  }
 ],
 "metadata": {
  "kernelspec": {
   "display_name": "Python 3",
   "language": "python",
   "name": "python3"
  },
  "language_info": {
   "codemirror_mode": {
    "name": "ipython",
    "version": 3
   },
   "file_extension": ".py",
   "mimetype": "text/x-python",
   "name": "python",
   "nbconvert_exporter": "python",
   "pygments_lexer": "ipython3",
   "version": "3.7.6"
  }
 },
 "nbformat": 4,
 "nbformat_minor": 4
}
